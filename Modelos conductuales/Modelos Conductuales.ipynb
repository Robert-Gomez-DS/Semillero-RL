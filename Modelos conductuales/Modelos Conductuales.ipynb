{
 "cells": [
  {
   "cell_type": "code",
   "execution_count": 3,
   "id": "e2c1fe50",
   "metadata": {},
   "outputs": [],
   "source": [
    "import matplotlib.pyplot as plt\n",
    "import numpy as np"
   ]
  },
  {
   "cell_type": "markdown",
   "id": "61c3e2d7",
   "metadata": {},
   "source": [
    "# Condicionamiento clásico"
   ]
  },
  {
   "cell_type": "markdown",
   "id": "6705ea48",
   "metadata": {},
   "source": [
    "## Rescorla-wagner"
   ]
  },
  {
   "cell_type": "markdown",
   "id": "8244ac23",
   "metadata": {},
   "source": [
    "La ley de (Rescorla and Wagner, 1972) provee una cuenta concisa de ciertos aspectos del condicionamiento clásico. La regla está basada en una simple predicción lineal de la recompensa asociada al estimulo.\n",
    "\n",
    "Definimos una simple variable binaria $\\mu$ para representar la presencia o ausencia de un estimulo.( $\\mu = 1$ si el estimulo está presente $\\mu = 0$ en caso contrario) "
   ]
  },
  {
   "cell_type": "markdown",
   "id": "d42a02da",
   "metadata": {},
   "source": [
    "La recompensa esperada, denotada por $v$,es el estimulo $\\mu$ multiplicado por un peso $w$\n",
    "\n",
    "$$v=w\\mu$$"
   ]
  },
  {
   "cell_type": "markdown",
   "id": "058a6249",
   "metadata": {},
   "source": [
    "El valor de $w$ está establecido por una regla de aprendizaje que minimiza el error cuadratico $(r-v)^2$ entre la recompensa real $r$ y la predicción $v$. En razón de miminizar esto , se construye un descenso del gradiente.\n",
    "\n",
    "$$w\\rightarrow w + \\epsilon \\delta \\mu$$ <center>con</center> $$\\delta = r -v$$"
   ]
  },
  {
   "cell_type": "markdown",
   "id": "ad018591",
   "metadata": {},
   "source": [
    "Aquí $\\epsilon $ es el indice de aprendizaje ,podemos interpretar la actividad de las celulas dopaminergicas en el [area tegmental ventral](https://es.wikipedia.org/wiki/Área_tegmental_ventral) como codificación de una forma de este error de predicción.\n"
   ]
  },
  {
   "cell_type": "markdown",
   "id": "0b4503f1",
   "metadata": {},
   "source": [
    "Si $\\epsilon$ suficientemente $\\mu = 1$ En cada iteración (El estimulo está siempre presente), la regla finalmente hará que $w$\n",
    "fluctue cerca del valor $w = r$, en éste punto el valor promedio de  $\\delta$ será $0$."
   ]
  },
  {
   "cell_type": "markdown",
   "id": "f7b9c6b2",
   "metadata": {},
   "source": [
    "Aquí $s$ es el estimulo, $r$ la recompensa, $\\cdot$ es la ausenciai de recompensa , $'r'$ es la recompensa esperada y $'\\cdot'$ es un valor esperado de la ausencia de recompensa"
   ]
  },
  {
   "cell_type": "markdown",
   "id": "daba2b56",
   "metadata": {},
   "source": [
    "<style type=\"text/css\">\n",
    ".tg  {border-collapse:collapse;border-spacing:0;}\n",
    ".tg td{border-color:black;border-style:solid;border-width:1px;font-family:Arial, sans-serif;font-size:14px;\n",
    "  overflow:hidden;padding:10px 5px;word-break:normal;}\n",
    ".tg th{border-color:black;border-style:solid;border-width:1px;font-family:Arial, sans-serif;font-size:14px;\n",
    "  font-weight:normal;overflow:hidden;padding:10px 5px;word-break:normal;}\n",
    ".tg .tg-0pky{border-color:inherit;text-align:left;vertical-align:top}\n",
    "</style>\n",
    "<table class=\"tg\">\n",
    "<thead>\n",
    "  <tr>\n",
    "    <th class=\"tg-0pky\">Paradigma</th>\n",
    "    <th class=\"tg-0pky\">Pre-entrenamiento</th>\n",
    "    <th class=\"tg-0pky\">Entrenamiento</th>\n",
    "    <th class=\"tg-0pky\">Resultado<br></th>\n",
    "  </tr>\n",
    "</thead>\n",
    "<tbody>\n",
    "  <tr>\n",
    "    <td class=\"tg-0pky\">Pavloviano</td>\n",
    "    <td class=\"tg-0pky\"></td>\n",
    "    <td class=\"tg-0pky\">$s\\rightarrow r$</td>\n",
    "    <td class=\"tg-0pky\">$s\\rightarrow 'r'$</td>\n",
    "  </tr>\n",
    "  <tr>\n",
    "    <td class=\"tg-0pky\">Extinción<br></td>\n",
    "    <td class=\"tg-0pky\">$s\\rightarrow r$</td>\n",
    "    <td class=\"tg-0pky\">$s\\rightarrow \\cdot$</td>\n",
    "    <td class=\"tg-0pky\">$s\\rightarrow '\\cdot'$</td>\n",
    "  </tr>\n",
    "  <tr>\n",
    "    <td class=\"tg-0pky\">Parcial</td>\n",
    "    <td class=\"tg-0pky\"></td>\n",
    "    <td class=\"tg-0pky\">$s\\rightarrow \\cdot \\; s\\rightarrow r$</td>\n",
    "    <td class=\"tg-0pky\">$s\\rightarrow \\alpha 'r'$</td>\n",
    "  </tr>\n",
    "</tbody>\n",
    "</table>"
   ]
  },
  {
   "cell_type": "code",
   "execution_count": 15,
   "id": "2cef5f3a",
   "metadata": {},
   "outputs": [
    {
     "data": {
      "image/png": "[encoded data removed]",
      "text/plain": [
       "<Figure size 432x288 with 1 Axes>"
      ]
     },
     "metadata": {
      "needs_background": "light"
     },
     "output_type": "display_data"
    }
   ],
   "source": [
    "#Rescorla-Wagner\n",
    "trials=200\n",
    "recompensas= np.concatenate((np.ones(100),np.zeros(100)))\n",
    "estimulo, recompensa,estimuloA=np.ones(trials),np.ones(trials),np.random.random_sample((200,))\n",
    "def reglaRW(recompensa,estimulos,indice_de_aprendizaje):\n",
    "    tamano=estimulos.shape[0]\n",
    "    pesos=[]\n",
    "    w=0\n",
    "    for i in range(tamano):\n",
    "        delta= recompensa[i] - w\n",
    "        w+=indice_de_aprendizaje*delta*estimulos[i]\n",
    "        pesos.append(w)\n",
    "#         print(w)\n",
    "    return pesos\n",
    "\n",
    "\n",
    "wEstimulo=reglaRW(recompensas,estimulo,0.05)\n",
    "AlEstimulo=reglaRW(recompensa,estimuloA,0.05)\n",
    "espacio=np.linspace(0,200,200)\n",
    "\n",
    "plt.title(\"Rescorla-Wagner\")\n",
    "plt.scatter(espacio,wEstimulo,alpha=0.5)\n",
    "plt.scatter(espacio,AlEstimulo,alpha=0.5)\n",
    "plt.grid()\n",
    "plt.show()"
   ]
  },
  {
   "cell_type": "markdown",
   "id": "bb036259",
   "metadata": {},
   "source": [
    "En la gráfica anterior podemos ver una relación entre el numero de iteraciones y el estimulo esperado. en la gráfica azul vemos primero el caso Pavloviano, luego de la iteración 100 vemos el proceso de extinción y en la gráfica naranja vemos el paradigma parcial."
   ]
  },
  {
   "cell_type": "code",
   "execution_count": null,
   "id": "065a83b9",
   "metadata": {},
   "outputs": [],
   "source": []
  }
 ],
 "metadata": {
  "kernelspec": {
   "display_name": "Python 3 (ipykernel)",
   "language": "python",
   "name": "python3"
  },
  "language_info": {
   "codemirror_mode": {
    "name": "ipython",
    "version": 3
   },
   "file_extension": ".py",
   "mimetype": "text/x-python",
   "name": "python",
   "nbconvert_exporter": "python",
   "pygments_lexer": "ipython3",
   "version": "3.9.7"
  }
 },
 "nbformat": 4,
 "nbformat_minor": 5
}
